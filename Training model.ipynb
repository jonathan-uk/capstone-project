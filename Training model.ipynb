{
 "cells": [
  {
   "cell_type": "markdown",
   "metadata": {},
   "source": [
    "<h1>C4 Solution</h1>"
   ]
  },
  {
   "cell_type": "markdown",
   "metadata": {},
   "source": [
    "<h3>Get the data and copy it to S3</h3>"
   ]
  },
  {
   "cell_type": "code",
   "execution_count": 184,
   "metadata": {},
   "outputs": [
    {
     "name": "stdout",
     "output_type": "stream",
     "text": [
      "/opt/conda/lib/python3.7/site-packages/secretstorage/dhcrypto.py:16: CryptographyDeprecationWarning: int_from_bytes is deprecated, use int.from_bytes instead\n",
      "  from cryptography.utils import int_from_bytes\n",
      "/opt/conda/lib/python3.7/site-packages/secretstorage/util.py:25: CryptographyDeprecationWarning: int_from_bytes is deprecated, use int.from_bytes instead\n",
      "  from cryptography.utils import int_from_bytes\n",
      "Requirement already satisfied: smdebug in /opt/conda/lib/python3.7/site-packages (1.0.12)\n",
      "Requirement already satisfied: boto3>=1.10.32 in /opt/conda/lib/python3.7/site-packages (from smdebug) (1.20.23)\n",
      "Requirement already satisfied: pyinstrument==3.4.2 in /opt/conda/lib/python3.7/site-packages (from smdebug) (3.4.2)\n",
      "Requirement already satisfied: protobuf>=3.6.0 in /opt/conda/lib/python3.7/site-packages (from smdebug) (3.19.1)\n",
      "Requirement already satisfied: packaging in /opt/conda/lib/python3.7/site-packages (from smdebug) (20.1)\n",
      "Requirement already satisfied: numpy>=1.16.0 in /opt/conda/lib/python3.7/site-packages (from smdebug) (1.20.3)\n",
      "Requirement already satisfied: pyinstrument-cext>=0.2.2 in /opt/conda/lib/python3.7/site-packages (from pyinstrument==3.4.2->smdebug) (0.2.4)\n",
      "Requirement already satisfied: jmespath<1.0.0,>=0.7.1 in /opt/conda/lib/python3.7/site-packages (from boto3>=1.10.32->smdebug) (0.10.0)\n",
      "Requirement already satisfied: botocore<1.24.0,>=1.23.23 in /opt/conda/lib/python3.7/site-packages (from boto3>=1.10.32->smdebug) (1.23.23)\n",
      "Requirement already satisfied: s3transfer<0.6.0,>=0.5.0 in /opt/conda/lib/python3.7/site-packages (from boto3>=1.10.32->smdebug) (0.5.0)\n",
      "Requirement already satisfied: six in /opt/conda/lib/python3.7/site-packages (from packaging->smdebug) (1.14.0)\n",
      "Requirement already satisfied: pyparsing>=2.0.2 in /opt/conda/lib/python3.7/site-packages (from packaging->smdebug) (2.4.6)\n",
      "Requirement already satisfied: python-dateutil<3.0.0,>=2.1 in /opt/conda/lib/python3.7/site-packages (from botocore<1.24.0,>=1.23.23->boto3>=1.10.32->smdebug) (2.8.1)\n",
      "Requirement already satisfied: urllib3<1.27,>=1.25.4 in /opt/conda/lib/python3.7/site-packages (from botocore<1.24.0,>=1.23.23->boto3>=1.10.32->smdebug) (1.26.7)\n",
      "\u001b[33mWARNING: Running pip as the 'root' user can result in broken permissions and conflicting behaviour with the system package manager. It is recommended to use a virtual environment instead: https://pip.pypa.io/warnings/venv\u001b[0m\n",
      "\u001b[33mWARNING: You are using pip version 21.3.1; however, version 22.0.3 is available.\n",
      "You should consider upgrading via the '/opt/conda/bin/python -m pip install --upgrade pip' command.\u001b[0m\n",
      "/opt/conda/lib/python3.7/site-packages/secretstorage/dhcrypto.py:16: CryptographyDeprecationWarning: int_from_bytes is deprecated, use int.from_bytes instead\n",
      "  from cryptography.utils import int_from_bytes\n",
      "/opt/conda/lib/python3.7/site-packages/secretstorage/util.py:25: CryptographyDeprecationWarning: int_from_bytes is deprecated, use int.from_bytes instead\n",
      "  from cryptography.utils import int_from_bytes\n",
      "Requirement already satisfied: torch in /opt/conda/lib/python3.7/site-packages (1.10.2)\n",
      "Requirement already satisfied: typing-extensions in /opt/conda/lib/python3.7/site-packages (from torch) (4.0.1)\n",
      "\u001b[33mWARNING: Running pip as the 'root' user can result in broken permissions and conflicting behaviour with the system package manager. It is recommended to use a virtual environment instead: https://pip.pypa.io/warnings/venv\u001b[0m\n",
      "\u001b[33mWARNING: You are using pip version 21.3.1; however, version 22.0.3 is available.\n",
      "You should consider upgrading via the '/opt/conda/bin/python -m pip install --upgrade pip' command.\u001b[0m\n"
     ]
    }
   ],
   "source": [
    "# TODO: Install any packages that you might need\n",
    "# I will need the smdebug package\n",
    "!pip install smdebug\n",
    "!pip install torch --no-cache-dir"
   ]
  },
  {
   "cell_type": "code",
   "execution_count": 185,
   "metadata": {},
   "outputs": [],
   "source": [
    "# TODO: Import all necessary packages that you might need\n",
    "# For instance I will need Boto3 and Sagemaker\n",
    "import sagemaker\n",
    "import boto3\n",
    "from sagemaker import get_execution_role\n",
    "from sagemaker.session import Session\n",
    "from sagemaker.debugger import Rule, DebuggerHookConfig, ProfilerConfig, FrameworkProfile, Rule, ProfilerRule, rule_configs, TensorBoardOutputConfig\n",
    "from sagemaker.pytorch import PyTorch\n",
    "from sagemaker.predictor import Predictor\n",
    "from sagemaker.tuner import (IntegerParameter, CategoricalParameter, ContinuousParameter, HyperparameterTuner)\n",
    "from sagemaker.debugger import CollectionConfig\n",
    "from sagemaker.pytorch import PyTorchModel\n",
    "import os\n",
    "import numpy as np"
   ]
  },
  {
   "cell_type": "code",
   "execution_count": 186,
   "metadata": {},
   "outputs": [
    {
     "name": "stdout",
     "output_type": "stream",
     "text": [
      "Default Bucket: sagemaker-us-east-1-324194532919\n",
      "AWS Region: us-east-1\n",
      "RoleArn: arn:aws:iam::324194532919:role/service-role/AmazonSageMaker-ExecutionRole-20220220T161955\n"
     ]
    }
   ],
   "source": [
    "sess = sagemaker.Session()\n",
    "bucket = sess.default_bucket()                                ## TODO: fill in\n",
    "print(\"Default Bucket: {}\".format(bucket))\n",
    "\n",
    "my_session = boto3.session.Session()\n",
    "region = my_session.region_name## TODO: fill in\n",
    "print(\"AWS Region: {}\".format(region))\n",
    "\n",
    "\n",
    "role = get_execution_role()## TODO: fill in\n",
    "print(\"RoleArn: {}\".format(role))"
   ]
  },
  {
   "cell_type": "code",
   "execution_count": null,
   "metadata": {},
   "outputs": [],
   "source": [
    "# Upload data to S3 bucket.\n",
    "inputs = sagemaker_session.upload_data(path=datapath, bucket=data_bucket, key_prefix=datapath)\n",
    "print(inputs)"
   ]
  },
  {
   "cell_type": "markdown",
   "metadata": {},
   "source": [
    "<h3>Set up parameters, estimator, and tuner</h3>"
   ]
  },
  {
   "cell_type": "code",
   "execution_count": 165,
   "metadata": {},
   "outputs": [],
   "source": [
    "#TODO: Declare your HP ranges, metrics etc.\n",
    "\n",
    "from sagemaker.tuner import (\n",
    "    CategoricalParameter,\n",
    "    ContinuousParameter,\n",
    "    HyperparameterTuner,\n",
    ")\n",
    "\n",
    "hyperparameter_ranges = {\n",
    "    \"lr\": ContinuousParameter(0.001, 0.1),\n",
    "    \"batch_size\": CategoricalParameter([32, 64, 128, 256])\n",
    "}\n",
    "objective_metric_name = \"Test Loss\"\n",
    "objective_type = \"Minimize\"\n",
    "metric_definitions = [{\"Name\": \"Test Loss\", \"Regex\": \"Testing Loss: ([0-9\\\\.]+)\"}]"
   ]
  },
  {
   "cell_type": "code",
   "execution_count": 166,
   "metadata": {},
   "outputs": [],
   "source": [
    "#TODO: Create estimators for your HPs\n",
    "estimator = PyTorch(\n",
    "    entry_point=\"fm_hpo.py\",\n",
    "    base_job_name=\"pytorch_fashionmnist\",\n",
    "    role=role,\n",
    "    instance_count=1,\n",
    "    instance_type=\"ml.m5.4xlarge\",\n",
    "    framework_version=\"1.8.0\",\n",
    "    py_version=\"py36\"\n",
    ")# TODO: Your estimator here\n",
    "tuner = HyperparameterTuner(\n",
    "    estimator,\n",
    "    objective_metric_name,\n",
    "    hyperparameter_ranges,\n",
    "    metric_definitions,\n",
    "    max_jobs=2,\n",
    "    max_parallel_jobs=2,\n",
    "    objective_type=objective_type\n",
    ")\n",
    "# TODO: Your HP tuner here"
   ]
  },
  {
   "cell_type": "markdown",
   "metadata": {},
   "source": [
    "<h3>Fit the tuner</h3>"
   ]
  },
  {
   "cell_type": "code",
   "execution_count": 167,
   "metadata": {},
   "outputs": [
    {
     "name": "stdout",
     "output_type": "stream",
     "text": [
      ".................................................................................................................................................................................................................................................................................................................................................................!\n"
     ]
    }
   ],
   "source": [
    "\n",
    "s3_data = \"s3://{}/{}/\".format(bucket, \"images\")\n",
    "s3_output_dir = \"s3://{}/{}/\".format(bucket, \"output\")\n",
    "s3_model_dir = \"s3://{}/{}/\".format(bucket, \"model\")\n",
    "\n",
    "\n",
    "os.environ['SM_CHANNEL_TRAIN']=s3_data\n",
    "os.environ['SM_MODEL_DIR']=s3_model_dir\n",
    "os.environ['SM_OUTPUT_DATA_DIR']=s3_output_dir\n",
    "\n",
    "\n",
    "tuner.fit({'train' : s3_data},wait=True) "
   ]
  },
  {
   "cell_type": "code",
   "execution_count": 168,
   "metadata": {},
   "outputs": [
    {
     "name": "stdout",
     "output_type": "stream",
     "text": [
      "\n",
      "2022-02-21 15:27:18 Starting - Preparing the instances for training\n",
      "2022-02-21 15:27:18 Downloading - Downloading input data\n",
      "2022-02-21 15:27:18 Training - Training image download completed. Training in progress.\n",
      "2022-02-21 15:27:18 Uploading - Uploading generated training model\n",
      "2022-02-21 15:27:18 Completed - Training job completed\n",
      "{'_tuning_objective_metric': '\"Test Loss\"', 'batch_size': '\"32\"', 'lr': '0.03138192028805053', 'sagemaker_container_log_level': '20', 'sagemaker_estimator_class_name': '\"PyTorch\"', 'sagemaker_estimator_module': '\"sagemaker.pytorch.estimator\"', 'sagemaker_job_name': '\"pytorch_fashionmnist-2022-02-21-15-03-22-137\"', 'sagemaker_program': '\"fm_hpo.py\"', 'sagemaker_region': '\"us-east-1\"', 'sagemaker_submit_directory': '\"s3://sagemaker-us-east-1-324194532919/pytorch_fashionmnist-2022-02-21-15-03-22-137/source/sourcedir.tar.gz\"'}\n"
     ]
    }
   ],
   "source": [
    "# TODO: Get the best estimators and the best HPs\n",
    "best_estimator = tuner.best_estimator()\n",
    "\n",
    "#Get the hyperparameters of the best trained model\n",
    "best_hypers = best_estimator.hyperparameters()\n",
    "\n",
    "# To know exact data from best_estimator.hyperparameters()\n",
    "print(best_hypers)"
   ]
  },
  {
   "cell_type": "code",
   "execution_count": 169,
   "metadata": {},
   "outputs": [],
   "source": [
    "with open ('best_hypers.txt', 'w') as f:\n",
    "    f.write(str(best_hypers))\n"
   ]
  },
  {
   "cell_type": "markdown",
   "metadata": {},
   "source": [
    "<h3>Describe the tuning results</h3>\n"
   ]
  },
  {
   "cell_type": "markdown",
   "metadata": {},
   "source": [
    "<h3>Prepare to perform Training on Best Estimator</h3>"
   ]
  },
  {
   "cell_type": "code",
   "execution_count": 170,
   "metadata": {},
   "outputs": [
    {
     "data": {
      "text/plain": [
       "{'_tuning_objective_metric': '\"Test Loss\"',\n",
       " 'batch_size': '\"32\"',\n",
       " 'lr': '0.03138192028805053',\n",
       " 'sagemaker_container_log_level': '20',\n",
       " 'sagemaker_estimator_class_name': '\"PyTorch\"',\n",
       " 'sagemaker_estimator_module': '\"sagemaker.pytorch.estimator\"',\n",
       " 'sagemaker_job_name': '\"pytorch_fashionmnist-2022-02-21-15-03-22-137\"',\n",
       " 'sagemaker_program': '\"fm_hpo.py\"',\n",
       " 'sagemaker_region': '\"us-east-1\"',\n",
       " 'sagemaker_submit_directory': '\"s3://sagemaker-us-east-1-324194532919/pytorch_fashionmnist-2022-02-21-15-03-22-137/source/sourcedir.tar.gz\"'}"
      ]
     },
     "execution_count": 170,
     "metadata": {},
     "output_type": "execute_result"
    }
   ],
   "source": [
    "best_estimator.hyperparameters()"
   ]
  },
  {
   "cell_type": "code",
   "execution_count": 172,
   "metadata": {},
   "outputs": [],
   "source": [
    "# TODO: Set up debugging and profiling rules and hooks\n",
    "from sagemaker.debugger import CollectionConfig\n",
    "rules = [\n",
    "    Rule.sagemaker(rule_configs.vanishing_gradient()),\n",
    "    Rule.sagemaker(rule_configs.overfit()),\n",
    "    Rule.sagemaker(rule_configs.overtraining()),\n",
    "    Rule.sagemaker(rule_configs.poor_weight_initialization()),\n",
    "    ProfilerRule.sagemaker(rule_configs.ProfilerReport()),\n",
    "]\n",
    "\n",
    "\n",
    "profiler_config = ProfilerConfig(system_monitor_interval_millis=500, framework_profile_params=FrameworkProfile(num_steps=1))\n",
    "#how to set up debbugging, collectionconfigs\n",
    "collection_configs=[CollectionConfig(name=\"CrossEntropyLoss_output_0\",parameters={\n",
    "    \"include_regex\": \"CrossEntropyLoss_output_0\", \"train.save_interval\": \"10\",\"eval.save_interval\": \"1\"})]\n",
    "debugger_config=DebuggerHookConfig(collection_configs=collection_configs)"
   ]
  },
  {
   "cell_type": "code",
   "execution_count": 173,
   "metadata": {},
   "outputs": [
    {
     "name": "stdout",
     "output_type": "stream",
     "text": [
      "2022-02-21 15:35:29 Starting - Starting the training job...\n",
      "2022-02-21 15:35:31 Starting - Launching requested ML instancesVanishingGradient: InProgress\n",
      "Overfit: InProgress\n",
      "Overtraining: InProgress\n",
      "PoorWeightInitialization: InProgress\n",
      "ProfilerReport: InProgress\n",
      ".........\n",
      "2022-02-21 15:37:18 Starting - Preparing the instances for training...\n",
      "2022-02-21 15:37:58 Downloading - Downloading input data.............................................\n",
      "2022-02-21 15:45:20 Training - Downloading the training image..\u001b[34mbash: cannot set terminal process group (-1): Inappropriate ioctl for device\u001b[0m\n",
      "\u001b[34mbash: no job control in this shell\u001b[0m\n",
      "\u001b[34m2022-02-21 15:45:36,599 sagemaker-containers INFO     Imported framework sagemaker_pytorch_container.training\u001b[0m\n",
      "\u001b[34m2022-02-21 15:45:36,620 sagemaker_pytorch_container.training INFO     Block until all host DNS lookups succeed.\u001b[0m\n",
      "\u001b[34m2022-02-21 15:45:39,645 sagemaker_pytorch_container.training INFO     Invoking user training script.\u001b[0m\n",
      "\n",
      "2022-02-21 15:46:00 Training - Training image download completed. Training in progress.\u001b[34m2022-02-21 15:45:55,337 sagemaker-containers INFO     Module default_user_module_name does not provide a setup.py. \u001b[0m\n",
      "\u001b[34mGenerating setup.py\u001b[0m\n",
      "\u001b[34m2022-02-21 15:45:55,337 sagemaker-containers INFO     Generating setup.cfg\u001b[0m\n",
      "\u001b[34m2022-02-21 15:45:55,338 sagemaker-containers INFO     Generating MANIFEST.in\u001b[0m\n",
      "\u001b[34m2022-02-21 15:45:55,338 sagemaker-containers INFO     Installing module with the following command:\u001b[0m\n",
      "\u001b[34m/opt/conda/bin/python3.6 -m pip install . \u001b[0m\n",
      "\u001b[34mProcessing /tmp/tmpbl9s7dym/module_dir\u001b[0m\n",
      "\u001b[34mBuilding wheels for collected packages: default-user-module-name\n",
      "  Building wheel for default-user-module-name (setup.py): started\n",
      "  Building wheel for default-user-module-name (setup.py): finished with status 'done'\n",
      "  Created wheel for default-user-module-name: filename=default_user_module_name-1.0.0-py2.py3-none-any.whl size=7302 sha256=09dbb6d54d1aaea113ef6ae55654bc9b0cefda6c79f7aa2c0bf6dc0cb4c60bb4\n",
      "  Stored in directory: /tmp/pip-ephem-wheel-cache-uh674rrh/wheels/96/cc/8c/e6617cd158d315834a533e9678a535f495b3669b6895e3842d\u001b[0m\n",
      "\u001b[34mSuccessfully built default-user-module-name\u001b[0m\n",
      "\u001b[34mInstalling collected packages: default-user-module-name\u001b[0m\n",
      "\u001b[34mSuccessfully installed default-user-module-name-1.0.0\u001b[0m\n",
      "\u001b[34m2022-02-21 15:45:57,633 sagemaker-containers INFO     Invoking user script\u001b[0m\n",
      "\u001b[34mTraining Env:\u001b[0m\n",
      "\u001b[34m{\n",
      "    \"additional_framework_parameters\": {},\n",
      "    \"channel_input_dirs\": {\n",
      "        \"train\": \"/opt/ml/input/data/train\"\n",
      "    },\n",
      "    \"current_host\": \"algo-1\",\n",
      "    \"framework_module\": \"sagemaker_pytorch_container.training:main\",\n",
      "    \"hosts\": [\n",
      "        \"algo-1\"\n",
      "    ],\n",
      "    \"hyperparameters\": {\n",
      "        \"batch_size\": \"32\",\n",
      "        \"lr\": \"0.03138192028805053\"\n",
      "    },\n",
      "    \"input_config_dir\": \"/opt/ml/input/config\",\n",
      "    \"input_data_config\": {\n",
      "        \"train\": {\n",
      "            \"TrainingInputMode\": \"File\",\n",
      "            \"S3DistributionType\": \"FullyReplicated\",\n",
      "            \"RecordWrapperType\": \"None\"\n",
      "        }\n",
      "    },\n",
      "    \"input_dir\": \"/opt/ml/input\",\n",
      "    \"is_master\": true,\n",
      "    \"job_name\": \"pytorch-training-2022-02-21-15-35-29-062\",\n",
      "    \"log_level\": 20,\n",
      "    \"master_hostname\": \"algo-1\",\n",
      "    \"model_dir\": \"/opt/ml/model\",\n",
      "    \"module_dir\": \"s3://sagemaker-us-east-1-324194532919/pytorch-training-2022-02-21-15-35-29-062/source/sourcedir.tar.gz\",\n",
      "    \"module_name\": \"fm_model\",\n",
      "    \"network_interface_name\": \"eth0\",\n",
      "    \"num_cpus\": 4,\n",
      "    \"num_gpus\": 1,\n",
      "    \"output_data_dir\": \"/opt/ml/output/data\",\n",
      "    \"output_dir\": \"/opt/ml/output\",\n",
      "    \"output_intermediate_dir\": \"/opt/ml/output/intermediate\",\n",
      "    \"resource_config\": {\n",
      "        \"current_host\": \"algo-1\",\n",
      "        \"hosts\": [\n",
      "            \"algo-1\"\n",
      "        ],\n",
      "        \"network_interface_name\": \"eth0\"\n",
      "    },\n",
      "    \"user_entry_point\": \"fm_model.py\"\u001b[0m\n",
      "\u001b[34m}\u001b[0m\n",
      "\u001b[34mEnvironment variables:\u001b[0m\n",
      "\u001b[34mSM_HOSTS=[\"algo-1\"]\u001b[0m\n",
      "\u001b[34mSM_NETWORK_INTERFACE_NAME=eth0\u001b[0m\n",
      "\u001b[34mSM_HPS={\"batch_size\":\"32\",\"lr\":\"0.03138192028805053\"}\u001b[0m\n",
      "\u001b[34mSM_USER_ENTRY_POINT=fm_model.py\u001b[0m\n",
      "\u001b[34mSM_FRAMEWORK_PARAMS={}\u001b[0m\n",
      "\u001b[34mSM_RESOURCE_CONFIG={\"current_host\":\"algo-1\",\"hosts\":[\"algo-1\"],\"network_interface_name\":\"eth0\"}\u001b[0m\n",
      "\u001b[34mSM_INPUT_DATA_CONFIG={\"train\":{\"RecordWrapperType\":\"None\",\"S3DistributionType\":\"FullyReplicated\",\"TrainingInputMode\":\"File\"}}\u001b[0m\n",
      "\u001b[34mSM_OUTPUT_DATA_DIR=/opt/ml/output/data\u001b[0m\n",
      "\u001b[34mSM_CHANNELS=[\"train\"]\u001b[0m\n",
      "\u001b[34mSM_CURRENT_HOST=algo-1\u001b[0m\n",
      "\u001b[34mSM_MODULE_NAME=fm_model\u001b[0m\n",
      "\u001b[34mSM_LOG_LEVEL=20\u001b[0m\n",
      "\u001b[34mSM_FRAMEWORK_MODULE=sagemaker_pytorch_container.training:main\u001b[0m\n",
      "\u001b[34mSM_INPUT_DIR=/opt/ml/input\u001b[0m\n",
      "\u001b[34mSM_INPUT_CONFIG_DIR=/opt/ml/input/config\u001b[0m\n",
      "\u001b[34mSM_OUTPUT_DIR=/opt/ml/output\u001b[0m\n",
      "\u001b[34mSM_NUM_CPUS=4\u001b[0m\n",
      "\u001b[34mSM_NUM_GPUS=1\u001b[0m\n",
      "\u001b[34mSM_MODEL_DIR=/opt/ml/model\u001b[0m\n",
      "\u001b[34mSM_MODULE_DIR=s3://sagemaker-us-east-1-324194532919/pytorch-training-2022-02-21-15-35-29-062/source/sourcedir.tar.gz\u001b[0m\n",
      "\u001b[34mSM_TRAINING_ENV={\"additional_framework_parameters\":{},\"channel_input_dirs\":{\"train\":\"/opt/ml/input/data/train\"},\"current_host\":\"algo-1\",\"framework_module\":\"sagemaker_pytorch_container.training:main\",\"hosts\":[\"algo-1\"],\"hyperparameters\":{\"batch_size\":\"32\",\"lr\":\"0.03138192028805053\"},\"input_config_dir\":\"/opt/ml/input/config\",\"input_data_config\":{\"train\":{\"RecordWrapperType\":\"None\",\"S3DistributionType\":\"FullyReplicated\",\"TrainingInputMode\":\"File\"}},\"input_dir\":\"/opt/ml/input\",\"is_master\":true,\"job_name\":\"pytorch-training-2022-02-21-15-35-29-062\",\"log_level\":20,\"master_hostname\":\"algo-1\",\"model_dir\":\"/opt/ml/model\",\"module_dir\":\"s3://sagemaker-us-east-1-324194532919/pytorch-training-2022-02-21-15-35-29-062/source/sourcedir.tar.gz\",\"module_name\":\"fm_model\",\"network_interface_name\":\"eth0\",\"num_cpus\":4,\"num_gpus\":1,\"output_data_dir\":\"/opt/ml/output/data\",\"output_dir\":\"/opt/ml/output\",\"output_intermediate_dir\":\"/opt/ml/output/intermediate\",\"resource_config\":{\"current_host\":\"algo-1\",\"hosts\":[\"algo-1\"],\"network_interface_name\":\"eth0\"},\"user_entry_point\":\"fm_model.py\"}\u001b[0m\n",
      "\u001b[34mSM_USER_ARGS=[\"--batch_size\",\"32\",\"--lr\",\"0.03138192028805053\"]\u001b[0m\n",
      "\u001b[34mSM_OUTPUT_INTERMEDIATE_DIR=/opt/ml/output/intermediate\u001b[0m\n",
      "\u001b[34mSM_CHANNEL_TRAIN=/opt/ml/input/data/train\u001b[0m\n",
      "\u001b[34mSM_HP_BATCH_SIZE=32\u001b[0m\n",
      "\u001b[34mSM_HP_LR=0.03138192028805053\u001b[0m\n",
      "\u001b[34mPYTHONPATH=/opt/ml/code:/opt/conda/bin:/opt/conda/lib/python36.zip:/opt/conda/lib/python3.6:/opt/conda/lib/python3.6/lib-dynload:/opt/conda/lib/python3.6/site-packages\u001b[0m\n",
      "\u001b[34mInvoking script with the following command:\u001b[0m\n",
      "\u001b[34m/opt/conda/bin/python3.6 fm_model.py --batch_size 32 --lr 0.03138192028805053\u001b[0m\n",
      "\u001b[34mNamespace(batch_size=32, data='/opt/ml/input/data/train', lr=0.03138192028805053, model_dir='/opt/ml/model', output_dir='/opt/ml/output/data')\u001b[0m\n",
      "\u001b[34mRunning on Device cuda:0\u001b[0m\n",
      "\u001b[34mHyperparameters are LR: 0.03138192028805053, Batch Size: 32\u001b[0m\n",
      "\u001b[34mData Paths: /opt/ml/input/data/train\u001b[0m\n",
      "\u001b[34m[2022-02-21 15:46:02.465 algo-1:44 INFO json_config.py:90] Creating hook from json_config at /opt/ml/input/config/debughookconfig.json.\u001b[0m\n",
      "\u001b[34m[2022-02-21 15:46:02.465 algo-1:44 INFO hook.py:192] tensorboard_dir has not been set for the hook. SMDebug will not be exporting tensorboard summaries.\u001b[0m\n",
      "\u001b[34m[2022-02-21 15:46:02.465 algo-1:44 INFO hook.py:237] Saving to /opt/ml/output/tensors\u001b[0m\n",
      "\u001b[34m[2022-02-21 15:46:02.465 algo-1:44 INFO state_store.py:67] The checkpoint config file /opt/ml/input/config/checkpointconfig.json does not exist.\u001b[0m\n",
      "\u001b[34mStart Model Training\u001b[0m\n",
      "\u001b[34mEpoch:0\u001b[0m\n",
      "\u001b[34m[2022-02-21 15:46:02.656 algo-1:44 INFO hook.py:382] Monitoring the collections: relu_input, CrossEntropyLoss_output_0, gradients, losses\u001b[0m\n",
      "\u001b[34m[2022-02-21 15:46:02.656 algo-1:44 INFO hook.py:443] Hook is writing from the hook with pid: 44\u001b[0m\n",
      "\u001b[34mtrain loss: 55.0000, acc: 12.0000, best loss: 1000000.0000\u001b[0m\n",
      "VanishingGradient: InProgress\n",
      "Overfit: InProgress\n",
      "Overtraining: IssuesFound\n",
      "PoorWeightInitialization: InProgress\n",
      "\u001b[34mvalid loss: 41.0000, acc: 15.0000, best loss: 41.0000\u001b[0m\n",
      "\u001b[34mTesting Model\u001b[0m\n",
      "\u001b[34mTest set: Average loss: 41.0000, Accuracy: 15.0\u001b[0m\n",
      "\u001b[34mSaving Model\u001b[0m\n",
      "\u001b[34m2022-02-21 15:48:39,379 sagemaker-containers INFO     Reporting training SUCCESS\u001b[0m\n",
      "\n",
      "2022-02-21 15:49:01 Uploading - Uploading generated training model\n",
      "2022-02-21 15:49:01 Completed - Training job completed\n",
      "ProfilerReport: IssuesFound\n",
      "Training seconds: 665\n",
      "Billable seconds: 665\n"
     ]
    }
   ],
   "source": [
    "# TODO: Create and fit an estimator\n",
    "#import os\n",
    "hyperparameters = {\"batch_size\": \"32\", \"lr\": \"0.03138192028805053\"} \n",
    "estimator = PyTorch(\n",
    "    role=sagemaker.get_execution_role(),\n",
    "    instance_count=1,\n",
    "    instance_type=\"ml.g4dn.xlarge\",\n",
    "    entry_point=\"fm_model.py\",\n",
    "    framework_version=\"1.4.0\",\n",
    "    py_version=\"py3\",\n",
    "    hyperparameters=hyperparameters,\n",
    "    profiler_config=profiler_config, \n",
    "    debugger_hook_config=debugger_config, \n",
    "    rules=rules\n",
    ")\n",
    "\n",
    "#estimator = estimator.fit(wait=True)# TODO: Your estimator here\n",
    "#in your notebook, you should specify the location of your training data:(this is from knowledge)\n",
    "estimator.fit({'train':s3_data}, wait=True)"
   ]
  },
  {
   "cell_type": "code",
   "execution_count": 174,
   "metadata": {},
   "outputs": [
    {
     "name": "stdout",
     "output_type": "stream",
     "text": [
      "Training jobname: pytorch-training-2022-02-21-15-35-29-062\n",
      "Region: us-east-1\n",
      "[2022-02-21 15:49:47.758 datascience-1-0-ml-g4dn-xlarge-94fad2f4401e538ca1255dfa1e84:425 INFO s3_trial.py:42] Loading trial debug-output at path s3://sagemaker-us-east-1-324194532919/pytorch-training-2022-02-21-15-35-29-062/debug-output\n",
      "['CrossEntropyLoss_output_0', 'gradient/ResNet_fc.0.bias', 'gradient/ResNet_fc.0.weight', 'gradient/ResNet_fc.2.bias', 'gradient/ResNet_fc.2.weight', 'gradient/ResNet_fc.4.bias', 'gradient/ResNet_fc.4.weight', 'layer1.0.relu_input_0', 'layer1.0.relu_input_1', 'layer1.1.relu_input_0', 'layer1.1.relu_input_1', 'layer2.0.relu_input_0', 'layer2.0.relu_input_1', 'layer2.1.relu_input_0', 'layer2.1.relu_input_1', 'layer3.0.relu_input_0', 'layer3.0.relu_input_1', 'layer3.1.relu_input_0', 'layer3.1.relu_input_1', 'layer4.0.relu_input_0', 'layer4.0.relu_input_1', 'layer4.1.relu_input_0', 'layer4.1.relu_input_1', 'relu_input_0']\n",
      "132\n",
      "876\n"
     ]
    }
   ],
   "source": [
    "# TODO: Plot a debugging output.\n",
    "training_job_name = estimator.latest_training_job.name\n",
    "print(f\"Training jobname: {training_job_name}\")\n",
    "print(f\"Region: {region}\")\n",
    "\n",
    "from smdebug.trials import create_trial\n",
    "from smdebug.core.modes import ModeKeys\n",
    "\n",
    "trial = create_trial(estimator.latest_job_debugger_artifacts_path())\n",
    "\n",
    "print(trial.tensor_names())\n",
    "print(len(trial.tensor('CrossEntropyLoss_output_0').steps(mode=ModeKeys.TRAIN)))\n",
    "print(len(trial.tensor('CrossEntropyLoss_output_0').steps(mode=ModeKeys.EVAL)))"
   ]
  },
  {
   "cell_type": "code",
   "execution_count": 175,
   "metadata": {},
   "outputs": [],
   "source": [
    "tensor_name = \"CrossEntropyLoss_output_0\""
   ]
  },
  {
   "cell_type": "code",
   "execution_count": 178,
   "metadata": {},
   "outputs": [],
   "source": [
    "def get_data(trial, tname, mode):\n",
    "    tensor = trial.tensor(tname)\n",
    "    steps = tensor.steps(mode=mode)\n",
    "    vals = []\n",
    "    for s in steps:\n",
    "        vals.append(tensor.value(s, mode=mode))\n",
    "    return steps, vals"
   ]
  },
  {
   "cell_type": "code",
   "execution_count": 179,
   "metadata": {},
   "outputs": [
    {
     "data": {
      "text/plain": [
       "([0,\n",
       "  10,\n",
       "  20,\n",
       "  30,\n",
       "  40,\n",
       "  50,\n",
       "  60,\n",
       "  70,\n",
       "  80,\n",
       "  90,\n",
       "  100,\n",
       "  110,\n",
       "  120,\n",
       "  130,\n",
       "  140,\n",
       "  150,\n",
       "  160,\n",
       "  170,\n",
       "  180,\n",
       "  190,\n",
       "  200,\n",
       "  210,\n",
       "  220,\n",
       "  230,\n",
       "  240,\n",
       "  250,\n",
       "  260,\n",
       "  270,\n",
       "  280,\n",
       "  290,\n",
       "  300,\n",
       "  310,\n",
       "  320,\n",
       "  330,\n",
       "  340,\n",
       "  350,\n",
       "  360,\n",
       "  370,\n",
       "  380,\n",
       "  390,\n",
       "  400,\n",
       "  410,\n",
       "  420,\n",
       "  430,\n",
       "  440,\n",
       "  450,\n",
       "  460,\n",
       "  470,\n",
       "  480,\n",
       "  490,\n",
       "  500,\n",
       "  510,\n",
       "  520,\n",
       "  530,\n",
       "  540,\n",
       "  550,\n",
       "  560,\n",
       "  570,\n",
       "  580,\n",
       "  590,\n",
       "  600,\n",
       "  610,\n",
       "  620,\n",
       "  630,\n",
       "  640,\n",
       "  650,\n",
       "  660,\n",
       "  670,\n",
       "  680,\n",
       "  690,\n",
       "  700,\n",
       "  710,\n",
       "  720,\n",
       "  730,\n",
       "  740,\n",
       "  750,\n",
       "  760,\n",
       "  770,\n",
       "  780,\n",
       "  790,\n",
       "  800,\n",
       "  810,\n",
       "  820,\n",
       "  830,\n",
       "  840,\n",
       "  850,\n",
       "  860,\n",
       "  870,\n",
       "  880,\n",
       "  890,\n",
       "  900,\n",
       "  910,\n",
       "  920,\n",
       "  930,\n",
       "  940,\n",
       "  950,\n",
       "  960,\n",
       "  970,\n",
       "  980,\n",
       "  990,\n",
       "  1000,\n",
       "  1010,\n",
       "  1020,\n",
       "  1030,\n",
       "  1040,\n",
       "  1050,\n",
       "  1060,\n",
       "  1070,\n",
       "  1080,\n",
       "  1090,\n",
       "  1100,\n",
       "  1110,\n",
       "  1120,\n",
       "  1130,\n",
       "  1140,\n",
       "  1150,\n",
       "  1160,\n",
       "  1170,\n",
       "  1180,\n",
       "  1190,\n",
       "  1200,\n",
       "  1210,\n",
       "  1220,\n",
       "  1230,\n",
       "  1240,\n",
       "  1250,\n",
       "  1260,\n",
       "  1270,\n",
       "  1280,\n",
       "  1290,\n",
       "  1300,\n",
       "  1310],\n",
       " [array(4.9400554, dtype=float32),\n",
       "  array(2.4681504, dtype=float32),\n",
       "  array(2.099781, dtype=float32),\n",
       "  array(2.0149057, dtype=float32),\n",
       "  array(1.7596292, dtype=float32),\n",
       "  array(1.9470441, dtype=float32),\n",
       "  array(2.192017, dtype=float32),\n",
       "  array(1.8327444, dtype=float32),\n",
       "  array(1.5158994, dtype=float32),\n",
       "  array(1.9287066, dtype=float32),\n",
       "  array(1.8054775, dtype=float32),\n",
       "  array(1.775974, dtype=float32),\n",
       "  array(1.6634748, dtype=float32),\n",
       "  array(1.7307316, dtype=float32),\n",
       "  array(1.6337043, dtype=float32),\n",
       "  array(1.6163994, dtype=float32),\n",
       "  array(1.5036778, dtype=float32),\n",
       "  array(1.5641524, dtype=float32),\n",
       "  array(1.4671162, dtype=float32),\n",
       "  array(1.5581739, dtype=float32),\n",
       "  array(1.3393776, dtype=float32),\n",
       "  array(1.9068539, dtype=float32),\n",
       "  array(1.7750906, dtype=float32),\n",
       "  array(1.7876414, dtype=float32),\n",
       "  array(1.8262231, dtype=float32),\n",
       "  array(1.5597816, dtype=float32),\n",
       "  array(1.5099599, dtype=float32),\n",
       "  array(1.6736134, dtype=float32),\n",
       "  array(1.4517744, dtype=float32),\n",
       "  array(1.394274, dtype=float32),\n",
       "  array(1.4819348, dtype=float32),\n",
       "  array(1.5381393, dtype=float32),\n",
       "  array(1.4892275, dtype=float32),\n",
       "  array(1.4481838, dtype=float32),\n",
       "  array(1.2287834, dtype=float32),\n",
       "  array(1.7654784, dtype=float32),\n",
       "  array(1.390624, dtype=float32),\n",
       "  array(1.8498936, dtype=float32),\n",
       "  array(1.4160947, dtype=float32),\n",
       "  array(1.3443184, dtype=float32),\n",
       "  array(3.0220313, dtype=float32),\n",
       "  array(1.579489, dtype=float32),\n",
       "  array(1.668725, dtype=float32),\n",
       "  array(1.3814471, dtype=float32),\n",
       "  array(1.7467022, dtype=float32),\n",
       "  array(1.3563032, dtype=float32),\n",
       "  array(1.2097961, dtype=float32),\n",
       "  array(1.3494881, dtype=float32),\n",
       "  array(1.6335473, dtype=float32),\n",
       "  array(1.4010191, dtype=float32),\n",
       "  array(1.6182319, dtype=float32),\n",
       "  array(1.7532296, dtype=float32),\n",
       "  array(1.462232, dtype=float32),\n",
       "  array(1.7014704, dtype=float32),\n",
       "  array(1.7437313, dtype=float32),\n",
       "  array(1.7397696, dtype=float32),\n",
       "  array(1.3768035, dtype=float32),\n",
       "  array(1.316358, dtype=float32),\n",
       "  array(1.2026675, dtype=float32),\n",
       "  array(1.8068959, dtype=float32),\n",
       "  array(1.5208917, dtype=float32),\n",
       "  array(1.8588805, dtype=float32),\n",
       "  array(1.4895954, dtype=float32),\n",
       "  array(1.5750349, dtype=float32),\n",
       "  array(1.7236154, dtype=float32),\n",
       "  array(1.600534, dtype=float32),\n",
       "  array(1.7102, dtype=float32),\n",
       "  array(1.5694045, dtype=float32),\n",
       "  array(1.3074781, dtype=float32),\n",
       "  array(1.5732177, dtype=float32),\n",
       "  array(1.6587704, dtype=float32),\n",
       "  array(1.364583, dtype=float32),\n",
       "  array(1.4163854, dtype=float32),\n",
       "  array(1.7569525, dtype=float32),\n",
       "  array(1.8387119, dtype=float32),\n",
       "  array(1.9285899, dtype=float32),\n",
       "  array(1.3543456, dtype=float32),\n",
       "  array(1.5399263, dtype=float32),\n",
       "  array(1.2606492, dtype=float32),\n",
       "  array(1.4237019, dtype=float32),\n",
       "  array(1.303389, dtype=float32),\n",
       "  array(1.1159391, dtype=float32),\n",
       "  array(1.8759927, dtype=float32),\n",
       "  array(1.5845594, dtype=float32),\n",
       "  array(1.3138882, dtype=float32),\n",
       "  array(1.7278403, dtype=float32),\n",
       "  array(1.514758, dtype=float32),\n",
       "  array(1.2758971, dtype=float32),\n",
       "  array(1.2377537, dtype=float32),\n",
       "  array(1.2635431, dtype=float32),\n",
       "  array(1.6057187, dtype=float32),\n",
       "  array(1.5851926, dtype=float32),\n",
       "  array(1.1639869, dtype=float32),\n",
       "  array(1.6420082, dtype=float32),\n",
       "  array(1.567364, dtype=float32),\n",
       "  array(1.6581179, dtype=float32),\n",
       "  array(1.4487287, dtype=float32),\n",
       "  array(1.3366395, dtype=float32),\n",
       "  array(1.3541691, dtype=float32),\n",
       "  array(1.7349588, dtype=float32),\n",
       "  array(1.4368691, dtype=float32),\n",
       "  array(1.235717, dtype=float32),\n",
       "  array(1.3438348, dtype=float32),\n",
       "  array(1.4332279, dtype=float32),\n",
       "  array(1.3013337, dtype=float32),\n",
       "  array(1.5561303, dtype=float32),\n",
       "  array(1.5215098, dtype=float32),\n",
       "  array(1.4543483, dtype=float32),\n",
       "  array(1.3187013, dtype=float32),\n",
       "  array(1.7021656, dtype=float32),\n",
       "  array(1.48633, dtype=float32),\n",
       "  array(1.7404139, dtype=float32),\n",
       "  array(1.183524, dtype=float32),\n",
       "  array(1.8017634, dtype=float32),\n",
       "  array(1.5019622, dtype=float32),\n",
       "  array(1.3561529, dtype=float32),\n",
       "  array(1.5119531, dtype=float32),\n",
       "  array(1.4621027, dtype=float32),\n",
       "  array(1.8052927, dtype=float32),\n",
       "  array(1.4704418, dtype=float32),\n",
       "  array(1.4134264, dtype=float32),\n",
       "  array(1.532709, dtype=float32),\n",
       "  array(1.4511882, dtype=float32),\n",
       "  array(1.6556423, dtype=float32),\n",
       "  array(1.4792912, dtype=float32),\n",
       "  array(1.5576969, dtype=float32),\n",
       "  array(1.6971116, dtype=float32),\n",
       "  array(1.3991362, dtype=float32),\n",
       "  array(1.3429863, dtype=float32),\n",
       "  array(0.9401562, dtype=float32),\n",
       "  array(1.4605081, dtype=float32),\n",
       "  array(1.3450522, dtype=float32)])"
      ]
     },
     "execution_count": 179,
     "metadata": {},
     "output_type": "execute_result"
    }
   ],
   "source": [
    "get_data(trial, tensor_name, mode=ModeKeys.TRAIN)"
   ]
  },
  {
   "cell_type": "code",
   "execution_count": null,
   "metadata": {},
   "outputs": [],
   "source": [
    "import matplotlib.pyplot as plt\n",
    "from mpl_toolkits.axes_grid1 import host_subplot\n",
    "\n",
    "\n",
    "def plot_tensor(trial, tensor_name):\n",
    "\n",
    "    steps_train, vals_train = get_data(trial, tensor_name, mode=ModeKeys.TRAIN)\n",
    "    print(\"loaded TRAIN data\")\n",
    "    steps_eval, vals_eval = get_data(trial, tensor_name, mode=ModeKeys.EVAL)\n",
    "    print(\"loaded EVAL data\")\n",
    "\n",
    "    fig = plt.figure(figsize=(10, 7))\n",
    "    host = host_subplot(111)\n",
    "\n",
    "    par = host.twiny()\n",
    "\n",
    "    host.set_xlabel(\"Steps (TRAIN)\")\n",
    "    par.set_xlabel(\"Steps (EVAL)\")\n",
    "    host.set_ylabel(tensor_name)\n",
    "\n",
    "    (p1,) = host.plot(steps_train, vals_train, label=tensor_name)\n",
    "    print(\"completed TRAIN plot\")\n",
    "    (p2,) = par.plot(steps_eval, vals_eval, label=\"val_\" + tensor_name)\n",
    "    print(\"completed EVAL plot\")\n",
    "    leg = plt.legend()\n",
    "\n",
    "    host.xaxis.get_label().set_color(p1.get_color())\n",
    "    leg.texts[0].set_color(p1.get_color())\n",
    "\n",
    "    par.xaxis.get_label().set_color(p2.get_color())\n",
    "    leg.texts[1].set_color(p2.get_color())\n",
    "\n",
    "    plt.ylabel(tensor_name)\n",
    "\n",
    "    plt.show()\n"
   ]
  },
  {
   "cell_type": "code",
   "execution_count": 49,
   "metadata": {},
   "outputs": [
    {
     "name": "stdout",
     "output_type": "stream",
     "text": [
      "loaded TRAIN data\n",
      "loaded EVAL data\n",
      "completed TRAIN plot\n",
      "completed EVAL plot\n"
     ]
    },
    {
     "data": {
      "image/png": "[encoded data removed]",
      "text/plain": [
       "<Figure size 720x504 with 1 Axes>"
      ]
     },
     "metadata": {
      "needs_background": "light"
     },
     "output_type": "display_data"
    }
   ],
   "source": [
    "plot_tensor(trial, \"CrossEntropyLoss_output_0\")"
   ]
  },
  {
   "cell_type": "code",
   "execution_count": null,
   "metadata": {},
   "outputs": [],
   "source": []
  },
  {
   "cell_type": "markdown",
   "metadata": {},
   "source": [
    "<h2>Creating an Estimator</h2>"
   ]
  },
  {
   "cell_type": "code",
   "execution_count": null,
   "metadata": {},
   "outputs": [],
   "source": [
    "# Display the profiler output\n",
    "rule_output_path = estimator.output_path + estimator.latest_training_job.job_name + \"/rule-output\"\n",
    "print(f\"You will find the profiler report in {rule_output_path}\")"
   ]
  },
  {
   "cell_type": "code",
   "execution_count": null,
   "metadata": {},
   "outputs": [],
   "source": [
    "! aws s3 ls {rule_output_path} --recursive"
   ]
  },
  {
   "cell_type": "code",
   "execution_count": 223,
   "metadata": {},
   "outputs": [
    {
     "name": "stdout",
     "output_type": "stream",
     "text": [
      "download: s3://sagemaker-us-east-1-324194532919/pytorch-training-2022-02-21-14-21-08-051/rule-output/ProfilerReport/profiler-output/profiler-reports/LowGPUUtilization.json to ProfilerReport/profiler-output/profiler-reports/LowGPUUtilization.json\n",
      "download: s3://sagemaker-us-east-1-324194532919/pytorch-training-2022-02-21-14-21-08-051/rule-output/ProfilerReport/profiler-output/profiler-reports/BatchSize.json to ProfilerReport/profiler-output/profiler-reports/BatchSize.json\n",
      "download: s3://sagemaker-us-east-1-324194532919/pytorch-training-2022-02-21-14-21-08-051/rule-output/ProfilerReport/profiler-output/profiler-reports/LoadBalancing.json to ProfilerReport/profiler-output/profiler-reports/LoadBalancing.json\n",
      "download: s3://sagemaker-us-east-1-324194532919/pytorch-training-2022-02-21-14-21-08-051/rule-output/ProfilerReport/profiler-output/profiler-reports/CPUBottleneck.json to ProfilerReport/profiler-output/profiler-reports/CPUBottleneck.json\n",
      "download: s3://sagemaker-us-east-1-324194532919/pytorch-training-2022-02-21-14-21-08-051/rule-output/ProfilerReport/profiler-output/profiler-reports/Dataloader.json to ProfilerReport/profiler-output/profiler-reports/Dataloader.json\n",
      "download: s3://sagemaker-us-east-1-324194532919/pytorch-training-2022-02-21-14-21-08-051/rule-output/ProfilerReport/profiler-output/profiler-reports/MaxInitializationTime.json to ProfilerReport/profiler-output/profiler-reports/MaxInitializationTime.json\n",
      "download: s3://sagemaker-us-east-1-324194532919/pytorch-training-2022-02-21-14-21-08-051/rule-output/ProfilerReport/profiler-output/profiler-reports/GPUMemoryIncrease.json to ProfilerReport/profiler-output/profiler-reports/GPUMemoryIncrease.json\n",
      "download: s3://sagemaker-us-east-1-324194532919/pytorch-training-2022-02-21-14-21-08-051/rule-output/ProfilerReport/profiler-output/profiler-report.ipynb to ProfilerReport/profiler-output/profiler-report.ipynb\n",
      "download: s3://sagemaker-us-east-1-324194532919/pytorch-training-2022-02-21-14-21-08-051/rule-output/ProfilerReport/profiler-output/profiler-reports/IOBottleneck.json to ProfilerReport/profiler-output/profiler-reports/IOBottleneck.json\n",
      "download: s3://sagemaker-us-east-1-324194532919/pytorch-training-2022-02-21-14-21-08-051/rule-output/ProfilerReport/profiler-output/profiler-report.html to ProfilerReport/profiler-output/profiler-report.html\n",
      "download: s3://sagemaker-us-east-1-324194532919/pytorch-training-2022-02-21-14-21-08-051/rule-output/ProfilerReport/profiler-output/profiler-reports/OverallSystemUsage.json to ProfilerReport/profiler-output/profiler-reports/OverallSystemUsage.json\n",
      "download: s3://sagemaker-us-east-1-324194532919/pytorch-training-2022-02-21-14-21-08-051/rule-output/ProfilerReport/profiler-output/profiler-reports/OverallFrameworkMetrics.json to ProfilerReport/profiler-output/profiler-reports/OverallFrameworkMetrics.json\n",
      "download: s3://sagemaker-us-east-1-324194532919/pytorch-training-2022-02-21-14-21-08-051/rule-output/ProfilerReport/profiler-output/profiler-reports/StepOutlier.json to ProfilerReport/profiler-output/profiler-reports/StepOutlier.json\n"
     ]
    }
   ],
   "source": [
    "! aws s3 cp {rule_output_path} ./ --recursive"
   ]
  },
  {
   "cell_type": "code",
   "execution_count": 224,
   "metadata": {},
   "outputs": [],
   "source": [
    "#import os\n",
    "\n",
    "# get the autogenerated folder name of profiler report\n",
    "profiler_report_name = [\n",
    "    rule[\"RuleConfigurationName\"]\n",
    "    for rule in estimator.latest_training_job.rule_job_summary()\n",
    "    if \"Profiler\" in rule[\"RuleConfigurationName\"]\n",
    "][0]"
   ]
  },
  {
   "cell_type": "code",
   "execution_count": 226,
   "metadata": {},
   "outputs": [],
   "source": [
    "! tar czf ProfilerReport.tgz ProfilerReport/"
   ]
  },
  {
   "cell_type": "markdown",
   "metadata": {},
   "source": [
    "# Deployment"
   ]
  },
  {
   "cell_type": "code",
   "execution_count": 257,
   "metadata": {},
   "outputs": [
    {
     "name": "stdout",
     "output_type": "stream",
     "text": [
      "model_location = s3://sagemaker-us-east-1-324194532919/pytorch-training-2022-02-21-15-35-29-062/output/model.tar.gz\n"
     ]
    }
   ],
   "source": [
    "\n",
    "model_location = 's3://{}/{}/output/model.tar.gz'.format(bucket, training_job_name)\n",
    "print('model_location =', model_location)"
   ]
  },
  {
   "cell_type": "code",
   "execution_count": 258,
   "metadata": {},
   "outputs": [],
   "source": [
    "import sagemaker\n",
    "import boto3\n",
    "from sagemaker.tuner import CategoricalParameter, ContinuousParameter, HyperparameterTuner\n",
    "from sagemaker.pytorch import PyTorch\n",
    "from sagemaker import get_execution_role\n",
    "from sagemaker.debugger import Rule, DebuggerHookConfig, TensorBoardOutputConfig, CollectionConfig, ProfilerRule, rule_configs\n",
    "from sagemaker.debugger import ProfilerConfig, FrameworkProfile\n",
    "\n",
    "from sagemaker.pytorch import PyTorchModel\n",
    "from sagemaker.predictor import Predictor"
   ]
  },
  {
   "cell_type": "code",
   "execution_count": 259,
   "metadata": {},
   "outputs": [],
   "source": [
    "jpeg_serializer = sagemaker.serializers.IdentitySerializer(\"image/jpeg\")\n",
    "json_deserializer = sagemaker.deserializers.JSONDeserializer()\n",
    "\n",
    "\n",
    "class ImagePredictor(Predictor):\n",
    "    def __init__(self, endpoint_name, sagemaker_session):\n",
    "        super(ImagePredictor, self).__init__(\n",
    "            endpoint_name,\n",
    "            sagemaker_session=sagemaker_session,\n",
    "            serializer=jpeg_serializer,\n",
    "            deserializer=json_deserializer,\n",
    "        )"
   ]
  },
  {
   "cell_type": "code",
   "execution_count": 269,
   "metadata": {},
   "outputs": [],
   "source": [
    "pytorch_model = PyTorchModel(model_data=model_location, \n",
    "                             role=role, \n",
    "                             entry_point='fm_reference.py',\n",
    "                             py_version='py36',\n",
    "                             framework_version='1.8',\n",
    "                             predictor_cls=ImagePredictor)"
   ]
  },
  {
   "cell_type": "code",
   "execution_count": 267,
   "metadata": {},
   "outputs": [],
   "source": [
    "from time import time"
   ]
  },
  {
   "cell_type": "code",
   "execution_count": 270,
   "metadata": {},
   "outputs": [
    {
     "name": "stdout",
     "output_type": "stream",
     "text": [
      "------!Creating Endpoint Time:  187.4s\n"
     ]
    }
   ],
   "source": [
    "begin = time()\n",
    "predictor = pytorch_model.deploy(initial_instance_count=1, instance_type='ml.m5.large')\n",
    "c_time = time()-begin\n",
    "print('Creating Endpoint Time: {: .01f}s'.format(c_time))"
   ]
  },
  {
   "cell_type": "code",
   "execution_count": 271,
   "metadata": {},
   "outputs": [
    {
     "name": "stdout",
     "output_type": "stream",
     "text": [
      "endpoint_name =  pytorch-inference-2022-02-21-19-39-39-853\n"
     ]
    }
   ],
   "source": [
    "print('endpoint_name = ',predictor.endpoint_name)"
   ]
  },
  {
   "cell_type": "code",
   "execution_count": 272,
   "metadata": {},
   "outputs": [
    {
     "data": {
      "text/html": [
       "<div>\n",
       "<style scoped>\n",
       "    .dataframe tbody tr th:only-of-type {\n",
       "        vertical-align: middle;\n",
       "    }\n",
       "\n",
       "    .dataframe tbody tr th {\n",
       "        vertical-align: top;\n",
       "    }\n",
       "\n",
       "    .dataframe thead th {\n",
       "        text-align: right;\n",
       "    }\n",
       "</style>\n",
       "<table border=\"1\" class=\"dataframe\">\n",
       "  <thead>\n",
       "    <tr style=\"text-align: right;\">\n",
       "      <th></th>\n",
       "      <th>fullname</th>\n",
       "      <th>label</th>\n",
       "    </tr>\n",
       "  </thead>\n",
       "  <tbody>\n",
       "    <tr>\n",
       "      <th>0</th>\n",
       "      <td>images/test/9/Ankle-Boot_1.jpg</td>\n",
       "      <td>9</td>\n",
       "    </tr>\n",
       "    <tr>\n",
       "      <th>1</th>\n",
       "      <td>images/test/2/Pullover_1.jpg</td>\n",
       "      <td>2</td>\n",
       "    </tr>\n",
       "    <tr>\n",
       "      <th>2</th>\n",
       "      <td>images/test/1/Trouser_1.jpg</td>\n",
       "      <td>1</td>\n",
       "    </tr>\n",
       "    <tr>\n",
       "      <th>3</th>\n",
       "      <td>images/test/1/Trouser_2.jpg</td>\n",
       "      <td>1</td>\n",
       "    </tr>\n",
       "    <tr>\n",
       "      <th>4</th>\n",
       "      <td>images/test/6/Shirt_1.jpg</td>\n",
       "      <td>6</td>\n",
       "    </tr>\n",
       "  </tbody>\n",
       "</table>\n",
       "</div>"
      ],
      "text/plain": [
       "                         fullname  label\n",
       "0  images/test/9/Ankle-Boot_1.jpg      9\n",
       "1    images/test/2/Pullover_1.jpg      2\n",
       "2     images/test/1/Trouser_1.jpg      1\n",
       "3     images/test/1/Trouser_2.jpg      1\n",
       "4       images/test/6/Shirt_1.jpg      6"
      ]
     },
     "execution_count": 272,
     "metadata": {},
     "output_type": "execute_result"
    }
   ],
   "source": [
    "import pandas as pd\n",
    "testset = pd.read_csv('test.csv')\n",
    "testset.head()"
   ]
  },
  {
   "cell_type": "code",
   "execution_count": 273,
   "metadata": {},
   "outputs": [
    {
     "data": {
      "text/html": [
       "<div>\n",
       "<style scoped>\n",
       "    .dataframe tbody tr th:only-of-type {\n",
       "        vertical-align: middle;\n",
       "    }\n",
       "\n",
       "    .dataframe tbody tr th {\n",
       "        vertical-align: top;\n",
       "    }\n",
       "\n",
       "    .dataframe thead th {\n",
       "        text-align: right;\n",
       "    }\n",
       "</style>\n",
       "<table border=\"1\" class=\"dataframe\">\n",
       "  <thead>\n",
       "    <tr style=\"text-align: right;\">\n",
       "      <th></th>\n",
       "      <th>fullname</th>\n",
       "      <th>label</th>\n",
       "    </tr>\n",
       "  </thead>\n",
       "  <tbody>\n",
       "    <tr>\n",
       "      <th>0</th>\n",
       "      <td>images/test/9/Ankle-Boot_1.jpg</td>\n",
       "      <td>9</td>\n",
       "    </tr>\n",
       "    <tr>\n",
       "      <th>1</th>\n",
       "      <td>images/test/2/Pullover_1.jpg</td>\n",
       "      <td>2</td>\n",
       "    </tr>\n",
       "    <tr>\n",
       "      <th>2</th>\n",
       "      <td>images/test/1/Trouser_1.jpg</td>\n",
       "      <td>1</td>\n",
       "    </tr>\n",
       "    <tr>\n",
       "      <th>3</th>\n",
       "      <td>images/test/1/Trouser_2.jpg</td>\n",
       "      <td>1</td>\n",
       "    </tr>\n",
       "    <tr>\n",
       "      <th>4</th>\n",
       "      <td>images/test/6/Shirt_1.jpg</td>\n",
       "      <td>6</td>\n",
       "    </tr>\n",
       "  </tbody>\n",
       "</table>\n",
       "</div>"
      ],
      "text/plain": [
       "                         fullname  label\n",
       "0  images/test/9/Ankle-Boot_1.jpg      9\n",
       "1    images/test/2/Pullover_1.jpg      2\n",
       "2     images/test/1/Trouser_1.jpg      1\n",
       "3     images/test/1/Trouser_2.jpg      1\n",
       "4       images/test/6/Shirt_1.jpg      6"
      ]
     },
     "execution_count": 273,
     "metadata": {},
     "output_type": "execute_result"
    }
   ],
   "source": [
    "import pandas as pd\n",
    "\n",
    "testset_1 = testset.iloc[:5000,:]\n",
    "#testset_2 = testset.iloc[5001:,:] \n",
    "testset_1.head()"
   ]
  },
  {
   "cell_type": "code",
   "execution_count": 274,
   "metadata": {},
   "outputs": [
    {
     "data": {
      "text/plain": [
       "1001"
      ]
     },
     "execution_count": 274,
     "metadata": {},
     "output_type": "execute_result"
    }
   ],
   "source": [
    "import random\n",
    "k = random.randint(0, testset.shape[0]-1)\n",
    "import io\n",
    "filename = testset['fullname'][k]\n",
    "label = testset['label'][1]\n",
    "with open(filename, 'rb') as f:\n",
    "    input = f.read()\n",
    "len(input)"
   ]
  },
  {
   "cell_type": "code",
   "execution_count": 148,
   "metadata": {},
   "outputs": [
    {
     "data": {
      "text/plain": [
       "[[0.5479651689529419,\n",
       "  1.8651485443115234,\n",
       "  -2.5988097190856934,\n",
       "  5.487130641937256,\n",
       "  1.931625485420227,\n",
       "  -6.758813381195068,\n",
       "  3.092844247817993,\n",
       "  -2.8216121196746826,\n",
       "  -1.2999895811080933,\n",
       "  -0.9873822927474976]]"
      ]
     },
     "execution_count": 148,
     "metadata": {},
     "output_type": "execute_result"
    }
   ],
   "source": [
    "output = predictor.predict(input)\n",
    "output"
   ]
  },
  {
   "cell_type": "code",
   "execution_count": 149,
   "metadata": {},
   "outputs": [
    {
     "name": "stdout",
     "output_type": "stream",
     "text": [
      "prediction: 3 ,  images/test/6/Shirt_586.jpg label:  2\n",
      "Prediction is not correct\n"
     ]
    }
   ],
   "source": [
    "import numpy as np\n",
    "prediction = np.argmax(output)\n",
    "print('prediction:', prediction,', ', filename, 'label: ', label)\n",
    "if prediction == label:\n",
    "    print('Prediction is correct')\n",
    "else:\n",
    "    print('Prediction is not correct')"
   ]
  },
  {
   "cell_type": "code",
   "execution_count": 108,
   "metadata": {},
   "outputs": [
    {
     "name": "stdout",
     "output_type": "stream",
     "text": [
      "Testing time:  121.9s\n"
     ]
    }
   ],
   "source": [
    "begin = time()\n",
    "preds = []\n",
    "for k in range(testset.shape[0]):\n",
    "    filename = testset['fullname'][k]\n",
    "    with open(filename, 'rb') as f:\n",
    "        input = f.read()\n",
    "    output = predictor.predict(input)\n",
    "    preds.append(np.argmax(output))\n",
    "\n",
    "seconds = time() - begin\n",
    "mins = seconds //60\n",
    "print(f'Testing time: {seconds: 0.1f}s')"
   ]
  },
  {
   "cell_type": "code",
   "execution_count": null,
   "metadata": {},
   "outputs": [],
   "source": [
    "# Record the prediction data to process later in our local machine\n",
    "testset['prediction'] = preds\n",
    "testset.to_csv('predictions.csv', index=False)"
   ]
  },
  {
   "cell_type": "code",
   "execution_count": 87,
   "metadata": {},
   "outputs": [],
   "source": [
    "import pandas as pd\n",
    "import numpy as np"
   ]
  },
  {
   "cell_type": "code",
   "execution_count": null,
   "metadata": {},
   "outputs": [],
   "source": [
    "testset = pd.read_csv('predictions.csv')\n",
    "testset.head()"
   ]
  },
  {
   "cell_type": "code",
   "execution_count": 42,
   "metadata": {},
   "outputs": [],
   "source": [
    "equal_indexs = testset['label'] == testset['prediction']"
   ]
  },
  {
   "cell_type": "code",
   "execution_count": 43,
   "metadata": {},
   "outputs": [
    {
     "data": {
      "text/html": [
       "<div>\n",
       "<style scoped>\n",
       "    .dataframe tbody tr th:only-of-type {\n",
       "        vertical-align: middle;\n",
       "    }\n",
       "\n",
       "    .dataframe tbody tr th {\n",
       "        vertical-align: top;\n",
       "    }\n",
       "\n",
       "    .dataframe thead th {\n",
       "        text-align: right;\n",
       "    }\n",
       "</style>\n",
       "<table border=\"1\" class=\"dataframe\">\n",
       "  <thead>\n",
       "    <tr style=\"text-align: right;\">\n",
       "      <th></th>\n",
       "      <th>fullname</th>\n",
       "      <th>label</th>\n",
       "      <th>prediction</th>\n",
       "    </tr>\n",
       "  </thead>\n",
       "  <tbody>\n",
       "    <tr>\n",
       "      <th>0</th>\n",
       "      <td>images/test/9/Ankle-Boot_1.jpg</td>\n",
       "      <td>9</td>\n",
       "      <td>9</td>\n",
       "    </tr>\n",
       "    <tr>\n",
       "      <th>1</th>\n",
       "      <td>images/test/2/Pullover_1.jpg</td>\n",
       "      <td>2</td>\n",
       "      <td>2</td>\n",
       "    </tr>\n",
       "    <tr>\n",
       "      <th>2</th>\n",
       "      <td>images/test/1/Trouser_1.jpg</td>\n",
       "      <td>1</td>\n",
       "      <td>1</td>\n",
       "    </tr>\n",
       "    <tr>\n",
       "      <th>3</th>\n",
       "      <td>images/test/1/Trouser_2.jpg</td>\n",
       "      <td>1</td>\n",
       "      <td>1</td>\n",
       "    </tr>\n",
       "    <tr>\n",
       "      <th>4</th>\n",
       "      <td>images/test/6/Shirt_1.jpg</td>\n",
       "      <td>6</td>\n",
       "      <td>6</td>\n",
       "    </tr>\n",
       "  </tbody>\n",
       "</table>\n",
       "</div>"
      ],
      "text/plain": [
       "                         fullname  label  prediction\n",
       "0  images/test/9/Ankle-Boot_1.jpg      9           9\n",
       "1    images/test/2/Pullover_1.jpg      2           2\n",
       "2     images/test/1/Trouser_1.jpg      1           1\n",
       "3     images/test/1/Trouser_2.jpg      1           1\n",
       "4       images/test/6/Shirt_1.jpg      6           6"
      ]
     },
     "execution_count": 43,
     "metadata": {},
     "output_type": "execute_result"
    }
   ],
   "source": [
    "correct_preds = testset[equal_indexs]\n",
    "correct_preds.reset_index(inplace=True, drop=True)\n",
    "correct_preds.head()"
   ]
  },
  {
   "cell_type": "code",
   "execution_count": 44,
   "metadata": {},
   "outputs": [
    {
     "name": "stdout",
     "output_type": "stream",
     "text": [
      "The accuracy of all test images is: 0.8998 or 90%\n"
     ]
    }
   ],
   "source": [
    "accu = sum(equal_indexs)/testset.shape[0]\n",
    "print(f'The accuracy of all test images is: {accu:0.4f} or{accu*100: .0f}%')"
   ]
  },
  {
   "cell_type": "code",
   "execution_count": 45,
   "metadata": {},
   "outputs": [
    {
     "data": {
      "text/plain": [
       "['T-Shirt',\n",
       " 'Trouser',\n",
       " 'Pullover',\n",
       " 'Dress',\n",
       " 'Coatadd_label',\n",
       " 'Sandal',\n",
       " 'Shirt',\n",
       " 'Sneaker',\n",
       " 'Bag',\n",
       " 'Ankle-Boot']"
      ]
     },
     "execution_count": 45,
     "metadata": {},
     "output_type": "execute_result"
    }
   ],
   "source": [
    "cls_names = list(pd.read_csv('classes.csv')['class_name'])\n",
    "cls_names"
   ]
  },
  {
   "cell_type": "code",
   "execution_count": 46,
   "metadata": {},
   "outputs": [
    {
     "name": "stdout",
     "output_type": "stream",
     "text": [
      "The accuracy of label 0 is: 0.8580 or  86%\n",
      "The accuracy of label 1 is: 0.9780 or  98%\n",
      "The accuracy of label 2 is: 0.8610 or  86%\n",
      "The accuracy of label 3 is: 0.9060 or  91%\n",
      "The accuracy of label 4 is: 0.8450 or  84%\n",
      "The accuracy of label 5 is: 0.9590 or  96%\n",
      "The accuracy of label 6 is: 0.7040 or  70%\n",
      "The accuracy of label 7 is: 0.9550 or  96%\n",
      "The accuracy of label 8 is: 0.9780 or  98%\n",
      "The accuracy of label 9 is: 0.9540 or  95%\n"
     ]
    }
   ],
   "source": [
    "# We know the size of each class in testset is 1000\n",
    "cls_correct = [0 for _ in range(10)]\n",
    "for k in range(correct_preds.shape[0]):\n",
    "    n = correct_preds['label'][k] \n",
    "    if correct_preds['prediction'][k] == n:\n",
    "            cls_correct[n] += 1\n",
    "cls_accu = []\n",
    "for n in range(10):\n",
    "    cls_accu.append(cls_correct[n]/1000)\n",
    "    print(f'The accuracy of label {n} is:{cls_accu[n]: .04f} or {cls_accu[n]*100: .0f}%')\n",
    "    \n",
    "        "
   ]
  },
  {
   "cell_type": "code",
   "execution_count": 47,
   "metadata": {},
   "outputs": [
    {
     "name": "stdout",
     "output_type": "stream",
     "text": [
      "The accuracy of class T-Shirt is:  0.8580 or\t 86%\n",
      "The accuracy of class Trouser is:  0.9780 or\t 98%\n",
      "The accuracy of class Pullover is:  0.8610 or\t 86%\n",
      "The accuracy of class Dress is:  0.9060 or\t 91%\n",
      "The accuracy of class Coatadd_label is:  0.8450 or\t 84%\n",
      "The accuracy of class Sandal is:  0.9590 or\t 96%\n",
      "The accuracy of class Shirt is:  0.7040 or\t 70%\n",
      "The accuracy of class Sneaker is:  0.9550 or\t 96%\n",
      "The accuracy of class Bag is:  0.9780 or\t 98%\n",
      "The accuracy of class Ankle-Boot is:  0.9540 or\t 95%\n"
     ]
    }
   ],
   "source": [
    "for n in range(10):\n",
    "    print(f'The accuracy of class {cls_names[n]} is: {cls_accu[n]: .04f} or\\t{cls_accu[n]*100: .0f}%')"
   ]
  },
  {
   "cell_type": "code",
   "execution_count": null,
   "metadata": {},
   "outputs": [],
   "source": []
  }
 ],
 "metadata": {
  "instance_type": "ml.g4dn.xlarge",
  "kernelspec": {
   "display_name": "Python 3",
   "language": "python",
   "name": "python3"
  },
  "language_info": {
   "codemirror_mode": {
    "name": "ipython",
    "version": 3
   },
   "file_extension": ".py",
   "mimetype": "text/x-python",
   "name": "python",
   "nbconvert_exporter": "python",
   "pygments_lexer": "ipython3",
   "version": "3.8.5"
  }
 },
 "nbformat": 4,
 "nbformat_minor": 4
}
